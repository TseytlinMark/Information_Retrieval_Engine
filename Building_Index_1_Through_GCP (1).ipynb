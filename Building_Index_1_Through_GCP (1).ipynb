{
 "cells": [
  {
   "cell_type": "markdown",
   "id": "a00e032c",
   "metadata": {
    "id": "hWgiQS0zkWJ5"
   },
   "source": [
    "***Important*** DO NOT CLEAR THE OUTPUT OF THIS NOTEBOOK AFTER EXECUTION!!!"
   ]
  },
  {
   "cell_type": "code",
   "execution_count": 1,
   "id": "5ac36d3a",
   "metadata": {
    "id": "c0ccf76b",
    "nbgrader": {
     "grade": false,
     "grade_id": "cell-Worker_Count",
     "locked": true,
     "schema_version": 3,
     "solution": false,
     "task": false
    },
    "outputId": "cf88b954-f39a-412a-d87e-660833e735b6"
   },
   "outputs": [
    {
     "name": "stdout",
     "output_type": "stream",
     "text": [
      "NAME          PLATFORM  WORKER_COUNT  PREEMPTIBLE_WORKER_COUNT  STATUS   ZONE           SCHEDULED_DELETE\r\n",
      "cluster-b5a2  GCE       4                                       RUNNING  us-central1-a\r\n"
     ]
    }
   ],
   "source": [
    "# if the following command generates an error, you probably didn't enable \n",
    "# the cluster security option \"Allow API access to all Google Cloud services\"\n",
    "# under Manage Security → Project Access when setting up the cluster\n",
    "!gcloud dataproc clusters list --region us-central1"
   ]
  },
  {
   "cell_type": "markdown",
   "id": "51cf86c5",
   "metadata": {
    "id": "01ec9fd3"
   },
   "source": [
    "# Imports & Setup"
   ]
  },
  {
   "cell_type": "code",
   "execution_count": 2,
   "id": "bf199e6a",
   "metadata": {
    "id": "32b3ec57",
    "nbgrader": {
     "grade": false,
     "grade_id": "cell-Setup",
     "locked": true,
     "schema_version": 3,
     "solution": false,
     "task": false
    },
    "outputId": "fc0e315d-21e9-411d-d69c-5b97e4e5d629"
   },
   "outputs": [
    {
     "name": "stdout",
     "output_type": "stream",
     "text": [
      "\u001B[33mWARNING: Running pip as the 'root' user can result in broken permissions and conflicting behaviour with the system package manager. It is recommended to use a virtual environment instead: https://pip.pypa.io/warnings/venv\u001B[0m\u001B[33m\n",
      "\u001B[0m\u001B[33mWARNING: Running pip as the 'root' user can result in broken permissions and conflicting behaviour with the system package manager. It is recommended to use a virtual environment instead: https://pip.pypa.io/warnings/venv\u001B[0m\u001B[33m\n",
      "\u001B[0m"
     ]
    }
   ],
   "source": [
    "!pip install -q google-cloud-storage==1.43.0\n",
    "!pip install -q graphframes"
   ]
  },
  {
   "cell_type": "code",
   "execution_count": 3,
   "id": "d8f56ecd",
   "metadata": {
    "id": "5609143b",
    "nbgrader": {
     "grade": false,
     "grade_id": "cell-Imports",
     "locked": true,
     "schema_version": 3,
     "solution": false,
     "task": false
    },
    "outputId": "a24aa24b-aa75-4823-83ca-1d7deef0f0de"
   },
   "outputs": [
    {
     "name": "stderr",
     "output_type": "stream",
     "text": [
      "[nltk_data] Downloading package stopwords to /root/nltk_data...\n",
      "[nltk_data]   Package stopwords is already up-to-date!\n"
     ]
    },
    {
     "data": {
      "text/plain": [
       "True"
      ]
     },
     "execution_count": 3,
     "metadata": {},
     "output_type": "execute_result"
    }
   ],
   "source": [
    "import pyspark\n",
    "import sys\n",
    "from collections import Counter, OrderedDict, defaultdict\n",
    "import itertools\n",
    "from itertools import islice, count, groupby\n",
    "import pandas as pd\n",
    "import os\n",
    "import re\n",
    "from operator import itemgetter\n",
    "import nltk\n",
    "from nltk.stem.porter import *\n",
    "from nltk.corpus import stopwords\n",
    "from time import time\n",
    "from pathlib import Path\n",
    "import pickle\n",
    "import pandas as pd\n",
    "from google.cloud import storage\n",
    "\n",
    "import hashlib\n",
    "def _hash(s):\n",
    "    return hashlib.blake2b(bytes(s, encoding='utf8'), digest_size=5).hexdigest()\n",
    "\n",
    "nltk.download('stopwords')"
   ]
  },
  {
   "cell_type": "code",
   "execution_count": 4,
   "id": "38a897f2",
   "metadata": {
    "id": "b10cc999",
    "nbgrader": {
     "grade": false,
     "grade_id": "cell-jar",
     "locked": true,
     "schema_version": 3,
     "solution": false,
     "task": false
    },
    "outputId": "8f93a7ec-71e0-49c1-fc81-9af385849a90"
   },
   "outputs": [
    {
     "name": "stdout",
     "output_type": "stream",
     "text": [
      "-rw-r--r-- 1 root root 247882 Dec 30 17:34 /usr/lib/spark/jars/graphframes-0.8.2-spark3.1-s_2.12.jar\r\n"
     ]
    }
   ],
   "source": [
    "# if nothing prints here you forgot to include the initialization script when starting the cluster\n",
    "!ls -l /usr/lib/spark/jars/graph*"
   ]
  },
  {
   "cell_type": "code",
   "execution_count": 5,
   "id": "47900073",
   "metadata": {
    "id": "d3f86f11",
    "nbgrader": {
     "grade": false,
     "grade_id": "cell-pyspark-import",
     "locked": true,
     "schema_version": 3,
     "solution": false,
     "task": false
    }
   },
   "outputs": [],
   "source": [
    "from pyspark.sql import *\n",
    "from pyspark.sql.functions import *\n",
    "from pyspark import SparkContext, SparkConf, SparkFiles\n",
    "from pyspark.sql import SQLContext\n",
    "from graphframes import *"
   ]
  },
  {
   "cell_type": "code",
   "execution_count": 6,
   "id": "72bed56b",
   "metadata": {
    "id": "5be6dc2a",
    "nbgrader": {
     "grade": false,
     "grade_id": "cell-spark-version",
     "locked": true,
     "schema_version": 3,
     "solution": false,
     "task": false
    },
    "outputId": "07b4e22b-a252-42fb-fe46-d9050e4e7ca8",
    "scrolled": true
   },
   "outputs": [
    {
     "data": {
      "text/html": [
       "\n",
       "            <div>\n",
       "                <p><b>SparkSession - hive</b></p>\n",
       "                \n",
       "        <div>\n",
       "            <p><b>SparkContext</b></p>\n",
       "\n",
       "            <p><a href=\"http://cluster-b5a2-m.us-central1-a.c.inforetrievalass3.internal:33245\">Spark UI</a></p>\n",
       "\n",
       "            <dl>\n",
       "              <dt>Version</dt>\n",
       "                <dd><code>v3.1.3</code></dd>\n",
       "              <dt>Master</dt>\n",
       "                <dd><code>yarn</code></dd>\n",
       "              <dt>AppName</dt>\n",
       "                <dd><code>PySparkShell</code></dd>\n",
       "            </dl>\n",
       "        </div>\n",
       "        \n",
       "            </div>\n",
       "        "
      ],
      "text/plain": [
       "<pyspark.sql.session.SparkSession at 0x7faac54e4520>"
      ]
     },
     "execution_count": 6,
     "metadata": {},
     "output_type": "execute_result"
    }
   ],
   "source": [
    "spark"
   ]
  },
  {
   "cell_type": "code",
   "execution_count": 7,
   "id": "980e62a5",
   "metadata": {
    "id": "7adc1bf5",
    "nbgrader": {
     "grade": false,
     "grade_id": "cell-bucket_name",
     "locked": false,
     "schema_version": 3,
     "solution": true,
     "task": false
    }
   },
   "outputs": [],
   "source": [
    "# Put your bucket name below and make sure you can access it without an error\n",
    "bucket_name = 'inforetprojbucket22' \n",
    "full_path = f\"gs://{bucket_name}/\"\n",
    "paths = []\n",
    "\n",
    "client = storage.Client()\n",
    "blobs = client.list_blobs(bucket_name)\n",
    "for b in blobs:\n",
    "    if 'multistream' in b.name:\n",
    "        paths.append(full_path+b.name)"
   ]
  },
  {
   "cell_type": "markdown",
   "id": "582c3f5e",
   "metadata": {
    "id": "c0b0f215"
   },
   "source": [
    "# Building an inverted index"
   ]
  },
  {
   "cell_type": "markdown",
   "id": "481f2044",
   "metadata": {
    "id": "02f81c72"
   },
   "source": [
    "Here, we read the entire corpus to an rdd, directly from Google Storage Bucket and use your code from Colab to construct an inverted index."
   ]
  },
  {
   "cell_type": "code",
   "execution_count": 8,
   "id": "e4c523e7",
   "metadata": {
    "id": "b1af29c9",
    "scrolled": false
   },
   "outputs": [
    {
     "name": "stderr",
     "output_type": "stream",
     "text": [
      "                                                                                \r"
     ]
    }
   ],
   "source": [
    "parquetFile = spark.read.parquet(*paths)\n",
    "doc_text_pairs = parquetFile.select(\"text\", \"id\").rdd\n",
    "doc_title_pairs = parquetFile.select(\"title\", \"id\").rdd\n",
    "doc_anchor_pairs = parquetFile.select(\"anchor_text\", \"id\").rdd\n",
    "id_title_pairs = parquetFile.select(\"id\",\"title\").rdd\n",
    "Dict_id_Title = id_title_pairs.collectAsMap()"
   ]
  },
  {
   "cell_type": "markdown",
   "id": "368c7d6f",
   "metadata": {},
   "source": [
    "Building Pickle File of ('doc_id', 'title') for retrieving title easier."
   ]
  },
  {
   "cell_type": "code",
   "execution_count": 11,
   "id": "e1b2c4e8",
   "metadata": {},
   "outputs": [],
   "source": [
    "with open('/./home/dataproc/dict_doc_id.pickle', 'wb') as f:\n",
    "    pickle.dump(Dict_id_Title, f)"
   ]
  },
  {
   "cell_type": "code",
   "execution_count": null,
   "id": "e30f9b8b",
   "metadata": {},
   "outputs": [],
   "source": [
    "!gsutil cp -r /./home/dataproc/dict_doc_id.pickle"
   ]
  },
  {
   "cell_type": "markdown",
   "id": "0d7e2971",
   "metadata": {
    "id": "f6375562"
   },
   "source": [
    "We will count the number of pages to make sure we are looking at the entire corpus. The number of pages should be more than 6M"
   ]
  },
  {
   "cell_type": "code",
   "execution_count": 9,
   "id": "82881fbf",
   "metadata": {
    "id": "d89a7a9a"
   },
   "outputs": [
    {
     "name": "stderr",
     "output_type": "stream",
     "text": [
      "                                                                                \r"
     ]
    },
    {
     "data": {
      "text/plain": [
       "6348910"
      ]
     },
     "execution_count": 9,
     "metadata": {},
     "output_type": "execute_result"
    }
   ],
   "source": [
    "# Count number of wiki pages\n",
    "parquetFile.count()"
   ]
  },
  {
   "cell_type": "markdown",
   "id": "701811af",
   "metadata": {
    "id": "gaaIoFViXyTg"
   },
   "source": [
    "Let's import the inverted index module. Note that you need to use the staff-provided version called `inverted_index_gcp.py`, which contains helper functions to writing and reading the posting files similar to the Colab version, but with writing done to a Google Cloud Storage bucket."
   ]
  },
  {
   "cell_type": "code",
   "execution_count": 10,
   "id": "121fe102",
   "metadata": {
    "id": "04371c88",
    "outputId": "327fe81b-80f4-4b3a-8894-e74720d92e35"
   },
   "outputs": [
    {
     "name": "stdout",
     "output_type": "stream",
     "text": [
      "inverted_index_gcp_title.py\n",
      "inverted_index_gcp_body.py\n",
      "inverted_index_gcp_anchor.py\n",
      "inverted_index_gcp.py\n"
     ]
    }
   ],
   "source": [
    "# if nothing prints here you forgot to upload the file inverted_index_gcp.py to the home dir\n",
    "%cd -q /home/dataproc\n",
    "!ls inverted_index_gcp_title.py\n",
    "!ls inverted_index_gcp_body.py\n",
    "!ls inverted_index_gcp_anchor.py\n",
    "!ls inverted_index_gcp.py"
   ]
  },
  {
   "cell_type": "code",
   "execution_count": 11,
   "id": "57c101a8",
   "metadata": {
    "id": "2d3285d8",
    "scrolled": true
   },
   "outputs": [],
   "source": [
    "# adding our python module to the cluster\n",
    "sc.addFile(\"/home/dataproc/inverted_index_gcp_title.py\")\n",
    "sc.addFile(\"/home/dataproc/inverted_index_gcp_body.py\")\n",
    "sc.addFile(\"/home/dataproc/inverted_index_gcp_anchor.py\")\n",
    "sc.addFile(\"/home/dataproc/inverted_index_gcp.py\")\n",
    "sys.path.insert(0,SparkFiles.getRootDirectory())"
   ]
  },
  {
   "cell_type": "code",
   "execution_count": 12,
   "id": "c259c402",
   "metadata": {
    "id": "2477a5b9"
   },
   "outputs": [],
   "source": [
    "from inverted_index_gcp_title import InvertedIndex as Title_InvertedIndex\n",
    "from inverted_index_gcp_body import InvertedIndex as Body_InvertedIndex\n",
    "from inverted_index_gcp_anchor import InvertedIndex as Anchor_InvertedIndex\n",
    "from inverted_index_gcp import InvertedIndex"
   ]
  },
  {
   "cell_type": "markdown",
   "id": "5540c727",
   "metadata": {
    "id": "72bcf46a"
   },
   "source": [
    "**Functions for Indexing**"
   ]
  },
  {
   "cell_type": "code",
   "execution_count": 13,
   "id": "f3ad8fea",
   "metadata": {
    "id": "a4b6ee29",
    "nbgrader": {
     "grade": false,
     "grade_id": "cell-token2bucket",
     "locked": false,
     "schema_version": 3,
     "solution": true,
     "task": false
    }
   },
   "outputs": [],
   "source": [
    "english_stopwords = frozenset(stopwords.words('english'))\n",
    "corpus_stopwords = [\"category\", \"references\", \"also\", \"external\", \"links\", \n",
    "                    \"may\", \"first\", \"see\", \"history\", \"people\", \"one\", \"two\", \n",
    "                    \"part\", \"thumb\", \"including\", \"second\", \"following\", \n",
    "                    \"many\", \"however\", \"would\", \"became\"]\n",
    "\n",
    "all_stopwords = english_stopwords.union(corpus_stopwords)\n",
    "RE_WORD = re.compile(r\"\"\"[\\#\\@\\w](['\\-]?\\w){2,24}\"\"\", re.UNICODE)\n",
    "\n",
    "NUM_BUCKETS = 124\n",
    "def token2bucket_id(token):\n",
    "  return int(_hash(token),16) % NUM_BUCKETS\n",
    "\n",
    "def word_count(text, id):\n",
    "  tokens = [token.group() for token in RE_WORD.finditer(text.lower())]\n",
    "  newDict = {}\n",
    "  returnlist = []\n",
    "  for token in tokens:\n",
    "    if token not in all_stopwords:\n",
    "      if token not in newDict:\n",
    "        newDict[token] = (id, 1)\n",
    "      else:\n",
    "        my_tuple = newDict[token]\n",
    "        my_list = list(my_tuple)\n",
    "        my_list[1] = my_list[1]+1\n",
    "        my_tuple = tuple(my_list)\n",
    "        newDict[token] = my_tuple\n",
    "  for token in newDict:\n",
    "    returnlist.append((token, newDict[token]))      \n",
    "  return returnlist\n",
    "\n",
    "def reduce_word_counts(unsorted_pl):\n",
    "  sorted_list = list(unsorted_pl)\n",
    "  return sorted(sorted_list, key = lambda x:x[0])\n",
    "\n",
    "def calculate_df(postings):\n",
    "  words = postings.map(lambda w : (w[0],len(w[1])))\n",
    "  return words\n",
    "\n",
    "def partition_postings_and_write_body(postings):\n",
    "  GroupedPostings = postings.groupBy(lambda x: token2bucket_id(x[0]))\n",
    "  MappedPostings = GroupedPostings.map(lambda x: Body_InvertedIndex.write_a_posting_list(x,bucket_name))\n",
    "  return MappedPostings\n",
    "\n",
    "def partition_postings_and_write_title(postings):\n",
    "  GroupedPostings = postings.groupBy(lambda x: token2bucket_id(x[0]))\n",
    "  MappedPostings = GroupedPostings.map(lambda x: Title_InvertedIndex.write_a_posting_list(x,bucket_name))\n",
    "  return MappedPostings\n",
    "\n",
    "def partition_postings_and_write_anchor(postings):\n",
    "  GroupedPostings = postings.groupBy(lambda x: token2bucket_id(x[0]))\n",
    "  MappedPostings = GroupedPostings.map(lambda x: Anchor_InvertedIndex.write_a_posting_list(x,bucket_name))\n",
    "  return MappedPostings\n",
    "\n",
    "\n",
    "def Calculate_DL(id, text):\n",
    "  text_counter = 0\n",
    "  if(len(text) == 1):\n",
    "    return((id, 1))  \n",
    "  tokens = [token.group() for token in RE_WORD.finditer(text.lower())]\n",
    "  for token in tokens:\n",
    "    if token not in all_stopwords:\n",
    "      text_counter = text_counter + 1 \n",
    "  return ((id, text_counter))   \n",
    "\n",
    "def calculate_term_total(postings):\n",
    "  def term_total_count(postingList):\n",
    "    ttSum = 0\n",
    "    for pair in postingList:\n",
    "      ttSum+= pair[1]\n",
    "    return ttSum\n",
    "    \n",
    "  # Return the RDD\n",
    "  return postings.mapValues(term_total_count)"
   ]
  },
  {
   "cell_type": "markdown",
   "id": "47402a7a",
   "metadata": {},
   "source": [
    "# **Creating Body Index**"
   ]
  },
  {
   "cell_type": "code",
   "execution_count": null,
   "id": "55c8764e",
   "metadata": {
    "id": "0b5d7296",
    "nbgrader": {
     "grade": false,
     "grade_id": "cell-index_construction",
     "locked": false,
     "schema_version": 3,
     "solution": true,
     "task": false
    }
   },
   "outputs": [
    {
     "name": "stderr",
     "output_type": "stream",
     "text": [
      "                                                                                \r"
     ]
    },
    {
     "name": "stdout",
     "output_type": "stream",
     "text": [
      "<Blob: inforetprojbucket22, postings_gcp/body/0_posting_locs.pickle, 1673220401437359>\n",
      "<Blob: inforetprojbucket22, postings_gcp/body/100_posting_locs.pickle, 1673220514794591>\n",
      "<Blob: inforetprojbucket22, postings_gcp/body/101_posting_locs.pickle, 1673220475153607>\n",
      "<Blob: inforetprojbucket22, postings_gcp/body/102_posting_locs.pickle, 1673220471381199>\n",
      "<Blob: inforetprojbucket22, postings_gcp/body/103_posting_locs.pickle, 1673220448670804>\n",
      "<Blob: inforetprojbucket22, postings_gcp/body/104_posting_locs.pickle, 1673220525434400>\n",
      "<Blob: inforetprojbucket22, postings_gcp/body/105_posting_locs.pickle, 1673220518382799>\n",
      "<Blob: inforetprojbucket22, postings_gcp/body/106_posting_locs.pickle, 1673220516002251>\n",
      "<Blob: inforetprojbucket22, postings_gcp/body/107_posting_locs.pickle, 1673220476228890>\n",
      "<Blob: inforetprojbucket22, postings_gcp/body/108_posting_locs.pickle, 1673220452668428>\n",
      "<Blob: inforetprojbucket22, postings_gcp/body/109_posting_locs.pickle, 1673220518193038>\n",
      "<Blob: inforetprojbucket22, postings_gcp/body/10_posting_locs.pickle, 1673220400405951>\n",
      "<Blob: inforetprojbucket22, postings_gcp/body/110_posting_locs.pickle, 1673220458214813>\n",
      "<Blob: inforetprojbucket22, postings_gcp/body/111_posting_locs.pickle, 1673220473992755>\n",
      "<Blob: inforetprojbucket22, postings_gcp/body/112_posting_locs.pickle, 1673220521712661>\n",
      "<Blob: inforetprojbucket22, postings_gcp/body/113_posting_locs.pickle, 1673220523814596>\n",
      "<Blob: inforetprojbucket22, postings_gcp/body/114_posting_locs.pickle, 1673220518303083>\n",
      "<Blob: inforetprojbucket22, postings_gcp/body/115_posting_locs.pickle, 1673220475035090>\n",
      "<Blob: inforetprojbucket22, postings_gcp/body/116_posting_locs.pickle, 1673220455955701>\n",
      "<Blob: inforetprojbucket22, postings_gcp/body/117_posting_locs.pickle, 1673220473853449>\n",
      "<Blob: inforetprojbucket22, postings_gcp/body/118_posting_locs.pickle, 1673220473600692>\n",
      "<Blob: inforetprojbucket22, postings_gcp/body/119_posting_locs.pickle, 1673220520483250>\n",
      "<Blob: inforetprojbucket22, postings_gcp/body/11_posting_locs.pickle, 1673220468421425>\n",
      "<Blob: inforetprojbucket22, postings_gcp/body/120_posting_locs.pickle, 1673220525001214>\n",
      "<Blob: inforetprojbucket22, postings_gcp/body/121_posting_locs.pickle, 1673220457188127>\n",
      "<Blob: inforetprojbucket22, postings_gcp/body/122_posting_locs.pickle, 1673220487859738>\n",
      "<Blob: inforetprojbucket22, postings_gcp/body/123_posting_locs.pickle, 1673220491160929>\n",
      "<Blob: inforetprojbucket22, postings_gcp/body/12_posting_locs.pickle, 1673220473964707>\n",
      "<Blob: inforetprojbucket22, postings_gcp/body/13_posting_locs.pickle, 1673220473891184>\n",
      "<Blob: inforetprojbucket22, postings_gcp/body/14_posting_locs.pickle, 1673220470948652>\n",
      "<Blob: inforetprojbucket22, postings_gcp/body/15_posting_locs.pickle, 1673220474971888>\n",
      "<Blob: inforetprojbucket22, postings_gcp/body/16_posting_locs.pickle, 1673220478572082>\n",
      "<Blob: inforetprojbucket22, postings_gcp/body/17_posting_locs.pickle, 1673220406640031>\n",
      "<Blob: inforetprojbucket22, postings_gcp/body/18_posting_locs.pickle, 1673220412957924>\n",
      "<Blob: inforetprojbucket22, postings_gcp/body/19_posting_locs.pickle, 1673220482601582>\n",
      "<Blob: inforetprojbucket22, postings_gcp/body/1_posting_locs.pickle, 1673220396736133>\n",
      "<Blob: inforetprojbucket22, postings_gcp/body/20_posting_locs.pickle, 1673220416049264>\n",
      "<Blob: inforetprojbucket22, postings_gcp/body/21_posting_locs.pickle, 1673220406929244>\n",
      "<Blob: inforetprojbucket22, postings_gcp/body/22_posting_locs.pickle, 1673220417917522>\n",
      "<Blob: inforetprojbucket22, postings_gcp/body/23_posting_locs.pickle, 1673220417041262>\n",
      "<Blob: inforetprojbucket22, postings_gcp/body/24_posting_locs.pickle, 1673220483304733>\n",
      "<Blob: inforetprojbucket22, postings_gcp/body/25_posting_locs.pickle, 1673220487802951>\n",
      "<Blob: inforetprojbucket22, postings_gcp/body/26_posting_locs.pickle, 1673220491023280>\n",
      "<Blob: inforetprojbucket22, postings_gcp/body/27_posting_locs.pickle, 1673220485593049>\n",
      "<Blob: inforetprojbucket22, postings_gcp/body/28_posting_locs.pickle, 1673220489399681>\n",
      "<Blob: inforetprojbucket22, postings_gcp/body/29_posting_locs.pickle, 1673220489172661>\n",
      "<Blob: inforetprojbucket22, postings_gcp/body/2_posting_locs.pickle, 1673220396678253>\n",
      "<Blob: inforetprojbucket22, postings_gcp/body/30_posting_locs.pickle, 1673220429845646>\n",
      "<Blob: inforetprojbucket22, postings_gcp/body/31_posting_locs.pickle, 1673220487252689>\n",
      "<Blob: inforetprojbucket22, postings_gcp/body/32_posting_locs.pickle, 1673220397284566>\n",
      "<Blob: inforetprojbucket22, postings_gcp/body/33_posting_locs.pickle, 1673220396329972>\n",
      "<Blob: inforetprojbucket22, postings_gcp/body/34_posting_locs.pickle, 1673220400409055>\n",
      "<Blob: inforetprojbucket22, postings_gcp/body/35_posting_locs.pickle, 1673220492694737>\n",
      "<Blob: inforetprojbucket22, postings_gcp/body/36_posting_locs.pickle, 1673220395971195>\n",
      "<Blob: inforetprojbucket22, postings_gcp/body/37_posting_locs.pickle, 1673220493874900>\n",
      "<Blob: inforetprojbucket22, postings_gcp/body/38_posting_locs.pickle, 1673220493642974>\n",
      "<Blob: inforetprojbucket22, postings_gcp/body/39_posting_locs.pickle, 1673220401038273>\n",
      "<Blob: inforetprojbucket22, postings_gcp/body/3_posting_locs.pickle, 1673220396530378>\n",
      "<Blob: inforetprojbucket22, postings_gcp/body/40_posting_locs.pickle, 1673220422312427>\n",
      "<Blob: inforetprojbucket22, postings_gcp/body/41_posting_locs.pickle, 1673220414146384>\n",
      "<Blob: inforetprojbucket22, postings_gcp/body/42_posting_locs.pickle, 1673220437021582>\n",
      "<Blob: inforetprojbucket22, postings_gcp/body/43_posting_locs.pickle, 1673220416542145>\n",
      "<Blob: inforetprojbucket22, postings_gcp/body/44_posting_locs.pickle, 1673220412866570>\n",
      "<Blob: inforetprojbucket22, postings_gcp/body/45_posting_locs.pickle, 1673220490879839>\n",
      "<Blob: inforetprojbucket22, postings_gcp/body/46_posting_locs.pickle, 1673220421028662>\n",
      "<Blob: inforetprojbucket22, postings_gcp/body/47_posting_locs.pickle, 1673220413071731>\n",
      "<Blob: inforetprojbucket22, postings_gcp/body/48_posting_locs.pickle, 1673220496266468>\n",
      "<Blob: inforetprojbucket22, postings_gcp/body/49_posting_locs.pickle, 1673220496617109>\n",
      "<Blob: inforetprojbucket22, postings_gcp/body/4_posting_locs.pickle, 1673220462566135>\n",
      "<Blob: inforetprojbucket22, postings_gcp/body/50_posting_locs.pickle, 1673220402440400>\n",
      "<Blob: inforetprojbucket22, postings_gcp/body/51_posting_locs.pickle, 1673220422430403>\n",
      "<Blob: inforetprojbucket22, postings_gcp/body/52_posting_locs.pickle, 1673220418129628>\n",
      "<Blob: inforetprojbucket22, postings_gcp/body/53_posting_locs.pickle, 1673220500426547>\n",
      "<Blob: inforetprojbucket22, postings_gcp/body/54_posting_locs.pickle, 1673220433578364>\n",
      "<Blob: inforetprojbucket22, postings_gcp/body/55_posting_locs.pickle, 1673220440217266>\n",
      "<Blob: inforetprojbucket22, postings_gcp/body/56_posting_locs.pickle, 1673220437289599>\n",
      "<Blob: inforetprojbucket22, postings_gcp/body/57_posting_locs.pickle, 1673220434715791>\n",
      "<Blob: inforetprojbucket22, postings_gcp/body/58_posting_locs.pickle, 1673220446117840>\n",
      "<Blob: inforetprojbucket22, postings_gcp/body/59_posting_locs.pickle, 1673220498662010>\n",
      "<Blob: inforetprojbucket22, postings_gcp/body/5_posting_locs.pickle, 1673220397166941>\n",
      "<Blob: inforetprojbucket22, postings_gcp/body/60_posting_locs.pickle, 1673220498367764>\n",
      "<Blob: inforetprojbucket22, postings_gcp/body/61_posting_locs.pickle, 1673220450630998>\n",
      "<Blob: inforetprojbucket22, postings_gcp/body/62_posting_locs.pickle, 1673220507167833>\n",
      "<Blob: inforetprojbucket22, postings_gcp/body/63_posting_locs.pickle, 1673220437167690>\n",
      "<Blob: inforetprojbucket22, postings_gcp/body/64_posting_locs.pickle, 1673220502289891>\n",
      "<Blob: inforetprojbucket22, postings_gcp/body/65_posting_locs.pickle, 1673220510976893>\n",
      "<Blob: inforetprojbucket22, postings_gcp/body/66_posting_locs.pickle, 1673220507735520>\n",
      "<Blob: inforetprojbucket22, postings_gcp/body/67_posting_locs.pickle, 1673220439694303>\n",
      "<Blob: inforetprojbucket22, postings_gcp/body/68_posting_locs.pickle, 1673220461368380>\n",
      "<Blob: inforetprojbucket22, postings_gcp/body/69_posting_locs.pickle, 1673220505045286>\n",
      "<Blob: inforetprojbucket22, postings_gcp/body/6_posting_locs.pickle, 1673220403608911>\n",
      "<Blob: inforetprojbucket22, postings_gcp/body/70_posting_locs.pickle, 1673220420630516>\n",
      "<Blob: inforetprojbucket22, postings_gcp/body/71_posting_locs.pickle, 1673220425793753>\n",
      "<Blob: inforetprojbucket22, postings_gcp/body/72_posting_locs.pickle, 1673220422860843>\n",
      "<Blob: inforetprojbucket22, postings_gcp/body/73_posting_locs.pickle, 1673220505902906>\n",
      "<Blob: inforetprojbucket22, postings_gcp/body/74_posting_locs.pickle, 1673220507589098>\n",
      "<Blob: inforetprojbucket22, postings_gcp/body/75_posting_locs.pickle, 1673220446126202>\n",
      "<Blob: inforetprojbucket22, postings_gcp/body/76_posting_locs.pickle, 1673220413073431>\n",
      "<Blob: inforetprojbucket22, postings_gcp/body/77_posting_locs.pickle, 1673220432752518>\n",
      "<Blob: inforetprojbucket22, postings_gcp/body/78_posting_locs.pickle, 1673220457888678>\n",
      "<Blob: inforetprojbucket22, postings_gcp/body/79_posting_locs.pickle, 1673220435556629>\n",
      "<Blob: inforetprojbucket22, postings_gcp/body/7_posting_locs.pickle, 1673220461957462>\n",
      "<Blob: inforetprojbucket22, postings_gcp/body/80_posting_locs.pickle, 1673220507804999>\n",
      "<Blob: inforetprojbucket22, postings_gcp/body/81_posting_locs.pickle, 1673220460787704>\n",
      "<Blob: inforetprojbucket22, postings_gcp/body/82_posting_locs.pickle, 1673220434511515>\n",
      "<Blob: inforetprojbucket22, postings_gcp/body/83_posting_locs.pickle, 1673220510463738>\n",
      "<Blob: inforetprojbucket22, postings_gcp/body/84_posting_locs.pickle, 1673220438281284>\n",
      "<Blob: inforetprojbucket22, postings_gcp/body/85_posting_locs.pickle, 1673220513633618>\n",
      "<Blob: inforetprojbucket22, postings_gcp/body/86_posting_locs.pickle, 1673220443584313>\n",
      "<Blob: inforetprojbucket22, postings_gcp/body/87_posting_locs.pickle, 1673220513006288>\n",
      "<Blob: inforetprojbucket22, postings_gcp/body/88_posting_locs.pickle, 1673220442422043>\n",
      "<Blob: inforetprojbucket22, postings_gcp/body/89_posting_locs.pickle, 1673220441278027>\n",
      "<Blob: inforetprojbucket22, postings_gcp/body/8_posting_locs.pickle, 1673220469916284>\n",
      "<Blob: inforetprojbucket22, postings_gcp/body/90_posting_locs.pickle, 1673220470921849>\n",
      "<Blob: inforetprojbucket22, postings_gcp/body/91_posting_locs.pickle, 1673220512542992>\n",
      "<Blob: inforetprojbucket22, postings_gcp/body/92_posting_locs.pickle, 1673220441361503>\n",
      "<Blob: inforetprojbucket22, postings_gcp/body/93_posting_locs.pickle, 1673220512337502>\n",
      "<Blob: inforetprojbucket22, postings_gcp/body/94_posting_locs.pickle, 1673220455899882>\n",
      "<Blob: inforetprojbucket22, postings_gcp/body/95_posting_locs.pickle, 1673220453592669>\n",
      "<Blob: inforetprojbucket22, postings_gcp/body/96_posting_locs.pickle, 1673220456352139>\n",
      "<Blob: inforetprojbucket22, postings_gcp/body/97_posting_locs.pickle, 1673220457848787>\n",
      "<Blob: inforetprojbucket22, postings_gcp/body/98_posting_locs.pickle, 1673220514096150>\n",
      "<Blob: inforetprojbucket22, postings_gcp/body/99_posting_locs.pickle, 1673220449569155>\n",
      "<Blob: inforetprojbucket22, postings_gcp/body/9_posting_locs.pickle, 1673220397276899>\n"
     ]
    }
   ],
   "source": [
    "# word counts map\n",
    "word_counts_body = doc_text_pairs.flatMap(lambda x: word_count(x[0], x[1]))\n",
    "#DL\n",
    "DL_Array_Body=doc_text_pairs.map(lambda x:Calculate_DL(x[1],x[0]))\n",
    "DL_Dict_Body = DL_Array_Body.collectAsMap()\n",
    "#postings\n",
    "postings_body = word_counts_body.groupByKey().mapValues(reduce_word_counts)\n",
    "# filtering postings and calculate df\n",
    "postings_filtered_body = postings_body.filter(lambda x: len(x[1])>50)\n",
    "w2df_body = calculate_df(postings_filtered_body)\n",
    "w2df_dict_body = w2df_body.collectAsMap()\n",
    "#Calculating Term Total\n",
    "w2termstotal_body = calculate_term_total(postings_filtered_body)\n",
    "dict_term_total_body = w2termstotal_body.collectAsMap()\n",
    "# partition posting lists and write out\n",
    "posting_locs_list_body = partition_postings_and_write_body(postings_filtered_body).collect()\n",
    "\n",
    "##\n",
    "\n",
    "# collect all posting lists locations into one super-set\n",
    "super_posting_locs_body = defaultdict(list)\n",
    "for blob in client.list_blobs(bucket_name, prefix='postings_gcp/body'):\n",
    "  if not blob.name.endswith(\"pickle\"):\n",
    "    continue\n",
    "  print(blob)  \n",
    "  with blob.open(\"rb\") as f:\n",
    "    posting_locs = pickle.load(f)\n",
    "    for k, v in posting_locs.items():\n",
    "      super_posting_locs_body[k].extend(v) "
   ]
  },
  {
   "cell_type": "markdown",
   "id": "8771cb5c",
   "metadata": {},
   "source": [
    "# Creating Title index"
   ]
  },
  {
   "cell_type": "markdown",
   "id": "949e1e61",
   "metadata": {},
   "source": [
    "Notice ! If We're Building Small Index - Change bucket_number !!! TO small!!!"
   ]
  },
  {
   "cell_type": "code",
   "execution_count": 14,
   "id": "aecdfc52",
   "metadata": {},
   "outputs": [
    {
     "name": "stderr",
     "output_type": "stream",
     "text": [
      "                                                                                \r"
     ]
    },
    {
     "name": "stdout",
     "output_type": "stream",
     "text": [
      "<Blob: inforetprojbucket22, postings_gcp/title/0_posting_locs.pickle, 1673392003609427>\n",
      "<Blob: inforetprojbucket22, postings_gcp/title/100_posting_locs.pickle, 1673392011807996>\n",
      "<Blob: inforetprojbucket22, postings_gcp/title/101_posting_locs.pickle, 1673392011969990>\n",
      "<Blob: inforetprojbucket22, postings_gcp/title/102_posting_locs.pickle, 1673392012018075>\n",
      "<Blob: inforetprojbucket22, postings_gcp/title/103_posting_locs.pickle, 1673392005189236>\n",
      "<Blob: inforetprojbucket22, postings_gcp/title/104_posting_locs.pickle, 1673392006676817>\n",
      "<Blob: inforetprojbucket22, postings_gcp/title/105_posting_locs.pickle, 1673392006355652>\n",
      "<Blob: inforetprojbucket22, postings_gcp/title/106_posting_locs.pickle, 1673392011795228>\n",
      "<Blob: inforetprojbucket22, postings_gcp/title/107_posting_locs.pickle, 1673392005279618>\n",
      "<Blob: inforetprojbucket22, postings_gcp/title/108_posting_locs.pickle, 1673392012403023>\n",
      "<Blob: inforetprojbucket22, postings_gcp/title/109_posting_locs.pickle, 1673392012793298>\n",
      "<Blob: inforetprojbucket22, postings_gcp/title/10_posting_locs.pickle, 1673392006600853>\n",
      "<Blob: inforetprojbucket22, postings_gcp/title/110_posting_locs.pickle, 1673392006513936>\n",
      "<Blob: inforetprojbucket22, postings_gcp/title/111_posting_locs.pickle, 1673392012856868>\n",
      "<Blob: inforetprojbucket22, postings_gcp/title/112_posting_locs.pickle, 1673392012793219>\n",
      "<Blob: inforetprojbucket22, postings_gcp/title/113_posting_locs.pickle, 1673392013188722>\n",
      "<Blob: inforetprojbucket22, postings_gcp/title/114_posting_locs.pickle, 1673392013006117>\n",
      "<Blob: inforetprojbucket22, postings_gcp/title/115_posting_locs.pickle, 1673392012992030>\n",
      "<Blob: inforetprojbucket22, postings_gcp/title/116_posting_locs.pickle, 1673392013022271>\n",
      "<Blob: inforetprojbucket22, postings_gcp/title/117_posting_locs.pickle, 1673392013195214>\n",
      "<Blob: inforetprojbucket22, postings_gcp/title/118_posting_locs.pickle, 1673392006547752>\n",
      "<Blob: inforetprojbucket22, postings_gcp/title/119_posting_locs.pickle, 1673392013076211>\n",
      "<Blob: inforetprojbucket22, postings_gcp/title/11_posting_locs.pickle, 1673392003699153>\n",
      "<Blob: inforetprojbucket22, postings_gcp/title/120_posting_locs.pickle, 1673392013064462>\n",
      "<Blob: inforetprojbucket22, postings_gcp/title/121_posting_locs.pickle, 1673392013037146>\n",
      "<Blob: inforetprojbucket22, postings_gcp/title/122_posting_locs.pickle, 1673392007644632>\n",
      "<Blob: inforetprojbucket22, postings_gcp/title/123_posting_locs.pickle, 1673392007614279>\n",
      "<Blob: inforetprojbucket22, postings_gcp/title/12_posting_locs.pickle, 1673392007571779>\n",
      "<Blob: inforetprojbucket22, postings_gcp/title/13_posting_locs.pickle, 1673392007688529>\n",
      "<Blob: inforetprojbucket22, postings_gcp/title/14_posting_locs.pickle, 1673392003530333>\n",
      "<Blob: inforetprojbucket22, postings_gcp/title/15_posting_locs.pickle, 1673392007735615>\n",
      "<Blob: inforetprojbucket22, postings_gcp/title/16_posting_locs.pickle, 1673392003650239>\n",
      "<Blob: inforetprojbucket22, postings_gcp/title/17_posting_locs.pickle, 1673392007858647>\n",
      "<Blob: inforetprojbucket22, postings_gcp/title/18_posting_locs.pickle, 1673392007869051>\n",
      "<Blob: inforetprojbucket22, postings_gcp/title/19_posting_locs.pickle, 1673392007846543>\n",
      "<Blob: inforetprojbucket22, postings_gcp/title/1_posting_locs.pickle, 1673392003865118>\n",
      "<Blob: inforetprojbucket22, postings_gcp/title/20_posting_locs.pickle, 1673392003656182>\n",
      "<Blob: inforetprojbucket22, postings_gcp/title/21_posting_locs.pickle, 1673392007839942>\n",
      "<Blob: inforetprojbucket22, postings_gcp/title/22_posting_locs.pickle, 1673392007876132>\n",
      "<Blob: inforetprojbucket22, postings_gcp/title/23_posting_locs.pickle, 1673392003616602>\n",
      "<Blob: inforetprojbucket22, postings_gcp/title/24_posting_locs.pickle, 1673392007834074>\n",
      "<Blob: inforetprojbucket22, postings_gcp/title/25_posting_locs.pickle, 1673392003883544>\n",
      "<Blob: inforetprojbucket22, postings_gcp/title/26_posting_locs.pickle, 1673392007929453>\n",
      "<Blob: inforetprojbucket22, postings_gcp/title/27_posting_locs.pickle, 1673392007850154>\n",
      "<Blob: inforetprojbucket22, postings_gcp/title/28_posting_locs.pickle, 1673392003522234>\n",
      "<Blob: inforetprojbucket22, postings_gcp/title/29_posting_locs.pickle, 1673392007881467>\n",
      "<Blob: inforetprojbucket22, postings_gcp/title/2_posting_locs.pickle, 1673392005241063>\n",
      "<Blob: inforetprojbucket22, postings_gcp/title/30_posting_locs.pickle, 1673392004826900>\n",
      "<Blob: inforetprojbucket22, postings_gcp/title/31_posting_locs.pickle, 1673392007890715>\n",
      "<Blob: inforetprojbucket22, postings_gcp/title/32_posting_locs.pickle, 1673392008088946>\n",
      "<Blob: inforetprojbucket22, postings_gcp/title/33_posting_locs.pickle, 1673392009142585>\n",
      "<Blob: inforetprojbucket22, postings_gcp/title/34_posting_locs.pickle, 1673392009206025>\n",
      "<Blob: inforetprojbucket22, postings_gcp/title/35_posting_locs.pickle, 1673392009014041>\n",
      "<Blob: inforetprojbucket22, postings_gcp/title/36_posting_locs.pickle, 1673392009172371>\n",
      "<Blob: inforetprojbucket22, postings_gcp/title/37_posting_locs.pickle, 1673392004888229>\n",
      "<Blob: inforetprojbucket22, postings_gcp/title/38_posting_locs.pickle, 1673392003690368>\n",
      "<Blob: inforetprojbucket22, postings_gcp/title/39_posting_locs.pickle, 1673392003687582>\n",
      "<Blob: inforetprojbucket22, postings_gcp/title/3_posting_locs.pickle, 1673392006505319>\n",
      "<Blob: inforetprojbucket22, postings_gcp/title/40_posting_locs.pickle, 1673392003671124>\n",
      "<Blob: inforetprojbucket22, postings_gcp/title/41_posting_locs.pickle, 1673392009180316>\n",
      "<Blob: inforetprojbucket22, postings_gcp/title/42_posting_locs.pickle, 1673392005231894>\n",
      "<Blob: inforetprojbucket22, postings_gcp/title/43_posting_locs.pickle, 1673392009257277>\n",
      "<Blob: inforetprojbucket22, postings_gcp/title/44_posting_locs.pickle, 1673392009219999>\n",
      "<Blob: inforetprojbucket22, postings_gcp/title/45_posting_locs.pickle, 1673392009082767>\n",
      "<Blob: inforetprojbucket22, postings_gcp/title/46_posting_locs.pickle, 1673392009199635>\n",
      "<Blob: inforetprojbucket22, postings_gcp/title/47_posting_locs.pickle, 1673392009127481>\n",
      "<Blob: inforetprojbucket22, postings_gcp/title/48_posting_locs.pickle, 1673392009376016>\n",
      "<Blob: inforetprojbucket22, postings_gcp/title/49_posting_locs.pickle, 1673392009297766>\n",
      "<Blob: inforetprojbucket22, postings_gcp/title/4_posting_locs.pickle, 1673392006749494>\n",
      "<Blob: inforetprojbucket22, postings_gcp/title/50_posting_locs.pickle, 1673392003744492>\n",
      "<Blob: inforetprojbucket22, postings_gcp/title/51_posting_locs.pickle, 1673392009298935>\n",
      "<Blob: inforetprojbucket22, postings_gcp/title/52_posting_locs.pickle, 1673392004883663>\n",
      "<Blob: inforetprojbucket22, postings_gcp/title/53_posting_locs.pickle, 1673392005046814>\n",
      "<Blob: inforetprojbucket22, postings_gcp/title/54_posting_locs.pickle, 1673392005181876>\n",
      "<Blob: inforetprojbucket22, postings_gcp/title/55_posting_locs.pickle, 1673392005132290>\n",
      "<Blob: inforetprojbucket22, postings_gcp/title/56_posting_locs.pickle, 1673392003887131>\n",
      "<Blob: inforetprojbucket22, postings_gcp/title/57_posting_locs.pickle, 1673392009231486>\n",
      "<Blob: inforetprojbucket22, postings_gcp/title/58_posting_locs.pickle, 1673392009403038>\n",
      "<Blob: inforetprojbucket22, postings_gcp/title/59_posting_locs.pickle, 1673392009294631>\n",
      "<Blob: inforetprojbucket22, postings_gcp/title/5_posting_locs.pickle, 1673392006676823>\n",
      "<Blob: inforetprojbucket22, postings_gcp/title/60_posting_locs.pickle, 1673392005064065>\n",
      "<Blob: inforetprojbucket22, postings_gcp/title/61_posting_locs.pickle, 1673392010278341>\n",
      "<Blob: inforetprojbucket22, postings_gcp/title/62_posting_locs.pickle, 1673392010348678>\n",
      "<Blob: inforetprojbucket22, postings_gcp/title/63_posting_locs.pickle, 1673392010369954>\n",
      "<Blob: inforetprojbucket22, postings_gcp/title/64_posting_locs.pickle, 1673392010568127>\n",
      "<Blob: inforetprojbucket22, postings_gcp/title/65_posting_locs.pickle, 1673392010613371>\n",
      "<Blob: inforetprojbucket22, postings_gcp/title/66_posting_locs.pickle, 1673392010622387>\n",
      "<Blob: inforetprojbucket22, postings_gcp/title/67_posting_locs.pickle, 1673392010572091>\n",
      "<Blob: inforetprojbucket22, postings_gcp/title/68_posting_locs.pickle, 1673392005328512>\n",
      "<Blob: inforetprojbucket22, postings_gcp/title/69_posting_locs.pickle, 1673392010610135>\n",
      "<Blob: inforetprojbucket22, postings_gcp/title/6_posting_locs.pickle, 1673392006696734>\n",
      "<Blob: inforetprojbucket22, postings_gcp/title/70_posting_locs.pickle, 1673392005113006>\n",
      "<Blob: inforetprojbucket22, postings_gcp/title/71_posting_locs.pickle, 1673392006285490>\n",
      "<Blob: inforetprojbucket22, postings_gcp/title/72_posting_locs.pickle, 1673392010612523>\n",
      "<Blob: inforetprojbucket22, postings_gcp/title/73_posting_locs.pickle, 1673392010641320>\n",
      "<Blob: inforetprojbucket22, postings_gcp/title/74_posting_locs.pickle, 1673392005291276>\n",
      "<Blob: inforetprojbucket22, postings_gcp/title/75_posting_locs.pickle, 1673392010425682>\n",
      "<Blob: inforetprojbucket22, postings_gcp/title/76_posting_locs.pickle, 1673392010479848>\n",
      "<Blob: inforetprojbucket22, postings_gcp/title/77_posting_locs.pickle, 1673392005057655>\n",
      "<Blob: inforetprojbucket22, postings_gcp/title/78_posting_locs.pickle, 1673392010500423>\n",
      "<Blob: inforetprojbucket22, postings_gcp/title/79_posting_locs.pickle, 1673392010501210>\n",
      "<Blob: inforetprojbucket22, postings_gcp/title/7_posting_locs.pickle, 1673392003674223>\n",
      "<Blob: inforetprojbucket22, postings_gcp/title/80_posting_locs.pickle, 1673392010629181>\n",
      "<Blob: inforetprojbucket22, postings_gcp/title/81_posting_locs.pickle, 1673392006239629>\n",
      "<Blob: inforetprojbucket22, postings_gcp/title/82_posting_locs.pickle, 1673392006408180>\n",
      "<Blob: inforetprojbucket22, postings_gcp/title/83_posting_locs.pickle, 1673392010654138>\n",
      "<Blob: inforetprojbucket22, postings_gcp/title/84_posting_locs.pickle, 1673392011579238>\n",
      "<Blob: inforetprojbucket22, postings_gcp/title/85_posting_locs.pickle, 1673392011714787>\n",
      "<Blob: inforetprojbucket22, postings_gcp/title/86_posting_locs.pickle, 1673392011948269>\n",
      "<Blob: inforetprojbucket22, postings_gcp/title/87_posting_locs.pickle, 1673392011611543>\n",
      "<Blob: inforetprojbucket22, postings_gcp/title/88_posting_locs.pickle, 1673392006308725>\n",
      "<Blob: inforetprojbucket22, postings_gcp/title/89_posting_locs.pickle, 1673392011646441>\n",
      "<Blob: inforetprojbucket22, postings_gcp/title/8_posting_locs.pickle, 1673392003653421>\n",
      "<Blob: inforetprojbucket22, postings_gcp/title/90_posting_locs.pickle, 1673392012004920>\n",
      "<Blob: inforetprojbucket22, postings_gcp/title/91_posting_locs.pickle, 1673392011780736>\n",
      "<Blob: inforetprojbucket22, postings_gcp/title/92_posting_locs.pickle, 1673392011869041>\n",
      "<Blob: inforetprojbucket22, postings_gcp/title/93_posting_locs.pickle, 1673392012064362>\n",
      "<Blob: inforetprojbucket22, postings_gcp/title/94_posting_locs.pickle, 1673392012056055>\n",
      "<Blob: inforetprojbucket22, postings_gcp/title/95_posting_locs.pickle, 1673392006362370>\n",
      "<Blob: inforetprojbucket22, postings_gcp/title/96_posting_locs.pickle, 1673392006613125>\n",
      "<Blob: inforetprojbucket22, postings_gcp/title/97_posting_locs.pickle, 1673392011851200>\n",
      "<Blob: inforetprojbucket22, postings_gcp/title/98_posting_locs.pickle, 1673392005279956>\n",
      "<Blob: inforetprojbucket22, postings_gcp/title/99_posting_locs.pickle, 1673392012063758>\n",
      "<Blob: inforetprojbucket22, postings_gcp/title/9_posting_locs.pickle, 1673392006538464>\n"
     ]
    }
   ],
   "source": [
    "# word counts map\n",
    "word_counts_Title = doc_title_pairs.flatMap(lambda x: word_count(x[0], x[1]))\n",
    "#DL\n",
    "DL_Array_Title=doc_title_pairs.map(lambda x:Calculate_DL(x[1],x[0]))\n",
    "DL_Dict_Title = DL_Array_Title.collectAsMap()\n",
    "#postings\n",
    "postings_Title = word_counts_Title.groupByKey().mapValues(reduce_word_counts)\n",
    "# filtering postings and calculate df\n",
    "w2df_Title = calculate_df(postings_Title)\n",
    "w2df_dict_Title = w2df_Title.collectAsMap()\n",
    "#Calculating Term Total\n",
    "w2termstotal_Title = calculate_term_total(postings_Title)\n",
    "dict_term_total_Title = w2termstotal_Title.collectAsMap()\n",
    "# partition posting lists and write out\n",
    "posting_locs_list_Title = partition_postings_and_write_title(postings_Title).collect()\n",
    "\n",
    "##\n",
    "\n",
    "# collect all posting lists locations into one super-set\n",
    "super_posting_locs_Title = defaultdict(list)\n",
    "for blob in client.list_blobs(bucket_name, prefix='postings_gcp/title'):\n",
    "  if not blob.name.endswith(\"pickle\"):\n",
    "    continue\n",
    "  print(blob)  \n",
    "  with blob.open(\"rb\") as f:\n",
    "    posting_locs = pickle.load(f)\n",
    "    for k, v in posting_locs.items():\n",
    "      super_posting_locs_Title[k].extend(v)"
   ]
  },
  {
   "cell_type": "code",
   "execution_count": 41,
   "id": "6fc2f118",
   "metadata": {},
   "outputs": [
    {
     "name": "stdout",
     "output_type": "stream",
     "text": [
      "[('autism', [(25, 1)]), ('abraham', [(307, 1), (1436, 1), (2851, 1)]), ('american', [(309, 1), (615, 1), (659, 1), (771, 1), (863, 1), (869, 1), (966, 1), (1110, 1), (1111, 1), (1112, 1), (1201, 1), (1241, 1), (1488, 1), (1558, 1), (1890, 1), (1902, 1), (1950, 1), (1973, 1), (2011, 1), (2175, 1), (2357, 1), (2386, 1), (2472, 1), (2799, 1), (2856, 1), (3861, 1), (3862, 1), (4166, 1), (4218, 1), (9734, 1), (21673, 1), (21976, 1), (21981, 1), (22050, 1), (22788, 1), (24710, 1), (28265, 1), (29507, 1), (34191, 1), (35922, 1), (37032, 1), (40673, 1)]), ('paris', [(309, 1), (16391, 1), (22989, 1), (24001, 1), (27094, 1)]), ('award', [(316, 1), (3858, 1), (3859, 1), (6725, 1), (13978, 1), (16413, 1), (23658, 1), (24205, 1), (31093, 1), (32769, 1), (40213, 1)]), ('animalia', [(332, 1)]), ('book', [(332, 1), (1726, 1), (2956, 1), (3275, 1), (3778, 1), (3978, 1), (4331, 1), (4332, 1), (4333, 1), (4362, 1), (4363, 1), (4364, 1), (4376, 1), (4377, 1), (4379, 1), (4381, 1), (4382, 1), (4386, 1), (4388, 1), (4389, 1), (4390, 1), (4447, 1), (4449, 1), (4450, 1), (4451, 1), (4452, 1), (4453, 1), (4454, 1), (4455, 1), (4456, 1), (4457, 1), (4458, 1), (4953, 1), (5874, 1), (6231, 1), (8547, 1), (9662, 1), (10529, 1), (12667, 1), (14472, 1), (14919, 1), (16591, 1), (18187, 1), (21064, 1), (21986, 1), (22832, 1), (30736, 1), (31431, 1), (31447, 1), (31564, 1), (31625, 1), (31626, 1), (37777, 1), (37861, 1)]), ('international', [(334, 1), (4739, 1), (7580, 1), (7602, 1), (9486, 1), (11724, 1), (14567, 1), (14761, 1), (14777, 1), (14836, 1), (14868, 1), (14869, 1), (14870, 1), (14871, 1), (14878, 1), (14880, 1), (14918, 1), (14919, 1), (14933, 1), (14934, 1), (14984, 1), (14985, 1), (14986, 1), (14987, 1), (14996, 1), (14997, 1), (15028, 1), (15043, 1), (15058, 1), (15076, 1), (15079, 1), (15144, 1), (15147, 1), (15238, 1), (15239, 1), (15251, 1), (15253, 1), (15274, 1), (15365, 1), (15369, 1), (15395, 1), (15402, 1), (15451, 1), (15459, 1), (15487, 1), (15495, 1), (18131, 1), (18463, 1), (18727, 1), (21734, 1), (23698, 1), (24960, 1), (26367, 1), (26764, 1), (29356, 1), (31332, 1), (32147, 1), (32210, 2), (33591, 1), (36531, 1), (36751, 1), (36754, 1), (36755, 1), (36760, 1), (36834, 1), (36893, 1), (36987, 1), (37459, 1), (38055, 1)]), ('atomic', [(334, 1), (673, 1), (1194, 1), (1200, 1), (1206, 1), (2014, 1), (2637, 1), (2844, 1), (14984, 1)]), ('altruism', [(336, 1)]), ('rand', [(339, 1), (11516, 1)]), ('dwan', [(344, 1)]), ('characters', [(359, 1), (7900, 1), (28388, 1)]), ('alien', [(579, 1), (3173, 1)]), ('astronomer', [(580, 1), (1940, 1)])]\n"
     ]
    }
   ],
   "source": [
    "print(postings_Title.take(15))"
   ]
  },
  {
   "cell_type": "markdown",
   "id": "240413c6",
   "metadata": {},
   "source": [
    "# Creating Anchor index"
   ]
  },
  {
   "cell_type": "code",
   "execution_count": null,
   "id": "8240b294",
   "metadata": {},
   "outputs": [
    {
     "name": "stderr",
     "output_type": "stream",
     "text": [
      "                                                                                \r"
     ]
    },
    {
     "name": "stdout",
     "output_type": "stream",
     "text": [
      "<Blob: inforetprojbucket22, postings_gcp/anchor/0_posting_locs.pickle, 1673221939872239>\n",
      "<Blob: inforetprojbucket22, postings_gcp/anchor/100_posting_locs.pickle, 1673221946385544>\n",
      "<Blob: inforetprojbucket22, postings_gcp/anchor/101_posting_locs.pickle, 1673221952644218>\n",
      "<Blob: inforetprojbucket22, postings_gcp/anchor/102_posting_locs.pickle, 1673221952765149>\n",
      "<Blob: inforetprojbucket22, postings_gcp/anchor/103_posting_locs.pickle, 1673221947492889>\n",
      "<Blob: inforetprojbucket22, postings_gcp/anchor/104_posting_locs.pickle, 1673221942877574>\n",
      "<Blob: inforetprojbucket22, postings_gcp/anchor/105_posting_locs.pickle, 1673221948865516>\n",
      "<Blob: inforetprojbucket22, postings_gcp/anchor/106_posting_locs.pickle, 1673221952532535>\n",
      "<Blob: inforetprojbucket22, postings_gcp/anchor/107_posting_locs.pickle, 1673221947815800>\n",
      "<Blob: inforetprojbucket22, postings_gcp/anchor/108_posting_locs.pickle, 1673221952612297>\n",
      "<Blob: inforetprojbucket22, postings_gcp/anchor/109_posting_locs.pickle, 1673221949571174>\n",
      "<Blob: inforetprojbucket22, postings_gcp/anchor/10_posting_locs.pickle, 1673221939777157>\n",
      "<Blob: inforetprojbucket22, postings_gcp/anchor/110_posting_locs.pickle, 1673221953158586>\n",
      "<Blob: inforetprojbucket22, postings_gcp/anchor/111_posting_locs.pickle, 1673221949346220>\n",
      "<Blob: inforetprojbucket22, postings_gcp/anchor/112_posting_locs.pickle, 1673221947846363>\n",
      "<Blob: inforetprojbucket22, postings_gcp/anchor/113_posting_locs.pickle, 1673221952991118>\n",
      "<Blob: inforetprojbucket22, postings_gcp/anchor/114_posting_locs.pickle, 1673221942286132>\n",
      "<Blob: inforetprojbucket22, postings_gcp/anchor/115_posting_locs.pickle, 1673221949414470>\n",
      "<Blob: inforetprojbucket22, postings_gcp/anchor/116_posting_locs.pickle, 1673221948215438>\n",
      "<Blob: inforetprojbucket22, postings_gcp/anchor/117_posting_locs.pickle, 1673221949591699>\n",
      "<Blob: inforetprojbucket22, postings_gcp/anchor/118_posting_locs.pickle, 1673221950217174>\n",
      "<Blob: inforetprojbucket22, postings_gcp/anchor/119_posting_locs.pickle, 1673221951258908>\n",
      "<Blob: inforetprojbucket22, postings_gcp/anchor/11_posting_locs.pickle, 1673221941237493>\n",
      "<Blob: inforetprojbucket22, postings_gcp/anchor/120_posting_locs.pickle, 1673221949146569>\n",
      "<Blob: inforetprojbucket22, postings_gcp/anchor/121_posting_locs.pickle, 1673221952871491>\n",
      "<Blob: inforetprojbucket22, postings_gcp/anchor/122_posting_locs.pickle, 1673221949460529>\n",
      "<Blob: inforetprojbucket22, postings_gcp/anchor/123_posting_locs.pickle, 1673221953037931>\n",
      "<Blob: inforetprojbucket22, postings_gcp/anchor/12_posting_locs.pickle, 1673221944660335>\n",
      "<Blob: inforetprojbucket22, postings_gcp/anchor/13_posting_locs.pickle, 1673221939745993>\n",
      "<Blob: inforetprojbucket22, postings_gcp/anchor/14_posting_locs.pickle, 1673221945659652>\n",
      "<Blob: inforetprojbucket22, postings_gcp/anchor/15_posting_locs.pickle, 1673221941007668>\n",
      "<Blob: inforetprojbucket22, postings_gcp/anchor/16_posting_locs.pickle, 1673221940081048>\n",
      "<Blob: inforetprojbucket22, postings_gcp/anchor/17_posting_locs.pickle, 1673221946263797>\n",
      "<Blob: inforetprojbucket22, postings_gcp/anchor/18_posting_locs.pickle, 1673221946074694>\n",
      "<Blob: inforetprojbucket22, postings_gcp/anchor/19_posting_locs.pickle, 1673221946890712>\n",
      "<Blob: inforetprojbucket22, postings_gcp/anchor/1_posting_locs.pickle, 1673221939625836>\n",
      "<Blob: inforetprojbucket22, postings_gcp/anchor/20_posting_locs.pickle, 1673221941076652>\n",
      "<Blob: inforetprojbucket22, postings_gcp/anchor/21_posting_locs.pickle, 1673221940463596>\n",
      "<Blob: inforetprojbucket22, postings_gcp/anchor/22_posting_locs.pickle, 1673221947592809>\n",
      "<Blob: inforetprojbucket22, postings_gcp/anchor/23_posting_locs.pickle, 1673221947866001>\n",
      "<Blob: inforetprojbucket22, postings_gcp/anchor/24_posting_locs.pickle, 1673221947849306>\n",
      "<Blob: inforetprojbucket22, postings_gcp/anchor/25_posting_locs.pickle, 1673221941726267>\n",
      "<Blob: inforetprojbucket22, postings_gcp/anchor/26_posting_locs.pickle, 1673221948579539>\n",
      "<Blob: inforetprojbucket22, postings_gcp/anchor/27_posting_locs.pickle, 1673221949193128>\n",
      "<Blob: inforetprojbucket22, postings_gcp/anchor/28_posting_locs.pickle, 1673221939878789>\n",
      "<Blob: inforetprojbucket22, postings_gcp/anchor/29_posting_locs.pickle, 1673221949563520>\n",
      "<Blob: inforetprojbucket22, postings_gcp/anchor/2_posting_locs.pickle, 1673221940072687>\n",
      "<Blob: inforetprojbucket22, postings_gcp/anchor/30_posting_locs.pickle, 1673221941886528>\n",
      "<Blob: inforetprojbucket22, postings_gcp/anchor/31_posting_locs.pickle, 1673221949769373>\n",
      "<Blob: inforetprojbucket22, postings_gcp/anchor/32_posting_locs.pickle, 1673221949756808>\n",
      "<Blob: inforetprojbucket22, postings_gcp/anchor/33_posting_locs.pickle, 1673221941119570>\n",
      "<Blob: inforetprojbucket22, postings_gcp/anchor/34_posting_locs.pickle, 1673221940767685>\n",
      "<Blob: inforetprojbucket22, postings_gcp/anchor/35_posting_locs.pickle, 1673221950378940>\n",
      "<Blob: inforetprojbucket22, postings_gcp/anchor/36_posting_locs.pickle, 1673221941553495>\n",
      "<Blob: inforetprojbucket22, postings_gcp/anchor/37_posting_locs.pickle, 1673221941997475>\n",
      "<Blob: inforetprojbucket22, postings_gcp/anchor/38_posting_locs.pickle, 1673221950682604>\n",
      "<Blob: inforetprojbucket22, postings_gcp/anchor/39_posting_locs.pickle, 1673221942823006>\n",
      "<Blob: inforetprojbucket22, postings_gcp/anchor/3_posting_locs.pickle, 1673221939604443>\n",
      "<Blob: inforetprojbucket22, postings_gcp/anchor/40_posting_locs.pickle, 1673221941942995>\n",
      "<Blob: inforetprojbucket22, postings_gcp/anchor/41_posting_locs.pickle, 1673221942187611>\n",
      "<Blob: inforetprojbucket22, postings_gcp/anchor/42_posting_locs.pickle, 1673221943409908>\n",
      "<Blob: inforetprojbucket22, postings_gcp/anchor/43_posting_locs.pickle, 1673221942363745>\n",
      "<Blob: inforetprojbucket22, postings_gcp/anchor/44_posting_locs.pickle, 1673221943098088>\n",
      "<Blob: inforetprojbucket22, postings_gcp/anchor/45_posting_locs.pickle, 1673221950274353>\n",
      "<Blob: inforetprojbucket22, postings_gcp/anchor/46_posting_locs.pickle, 1673221943404795>\n",
      "<Blob: inforetprojbucket22, postings_gcp/anchor/47_posting_locs.pickle, 1673221950096063>\n",
      "<Blob: inforetprojbucket22, postings_gcp/anchor/48_posting_locs.pickle, 1673221950643790>\n",
      "<Blob: inforetprojbucket22, postings_gcp/anchor/49_posting_locs.pickle, 1673221943894960>\n",
      "<Blob: inforetprojbucket22, postings_gcp/anchor/4_posting_locs.pickle, 1673221944109382>\n",
      "<Blob: inforetprojbucket22, postings_gcp/anchor/50_posting_locs.pickle, 1673221950822037>\n",
      "<Blob: inforetprojbucket22, postings_gcp/anchor/51_posting_locs.pickle, 1673221943389005>\n",
      "<Blob: inforetprojbucket22, postings_gcp/anchor/52_posting_locs.pickle, 1673221943902650>\n",
      "<Blob: inforetprojbucket22, postings_gcp/anchor/53_posting_locs.pickle, 1673221951008623>\n",
      "<Blob: inforetprojbucket22, postings_gcp/anchor/54_posting_locs.pickle, 1673221942210175>\n",
      "<Blob: inforetprojbucket22, postings_gcp/anchor/55_posting_locs.pickle, 1673221943693186>\n",
      "<Blob: inforetprojbucket22, postings_gcp/anchor/56_posting_locs.pickle, 1673221943904396>\n",
      "<Blob: inforetprojbucket22, postings_gcp/anchor/57_posting_locs.pickle, 1673221944932789>\n",
      "<Blob: inforetprojbucket22, postings_gcp/anchor/58_posting_locs.pickle, 1673221943864746>\n",
      "<Blob: inforetprojbucket22, postings_gcp/anchor/59_posting_locs.pickle, 1673221944249872>\n",
      "<Blob: inforetprojbucket22, postings_gcp/anchor/5_posting_locs.pickle, 1673221940460215>\n",
      "<Blob: inforetprojbucket22, postings_gcp/anchor/60_posting_locs.pickle, 1673221945217545>\n",
      "<Blob: inforetprojbucket22, postings_gcp/anchor/61_posting_locs.pickle, 1673221950902081>\n",
      "<Blob: inforetprojbucket22, postings_gcp/anchor/62_posting_locs.pickle, 1673221944475786>\n",
      "<Blob: inforetprojbucket22, postings_gcp/anchor/63_posting_locs.pickle, 1673221944997719>\n",
      "<Blob: inforetprojbucket22, postings_gcp/anchor/64_posting_locs.pickle, 1673221945045433>\n",
      "<Blob: inforetprojbucket22, postings_gcp/anchor/65_posting_locs.pickle, 1673221951614185>\n",
      "<Blob: inforetprojbucket22, postings_gcp/anchor/66_posting_locs.pickle, 1673221945588293>\n",
      "<Blob: inforetprojbucket22, postings_gcp/anchor/67_posting_locs.pickle, 1673221951360485>\n",
      "<Blob: inforetprojbucket22, postings_gcp/anchor/68_posting_locs.pickle, 1673221946442056>\n",
      "<Blob: inforetprojbucket22, postings_gcp/anchor/69_posting_locs.pickle, 1673221946705705>\n",
      "<Blob: inforetprojbucket22, postings_gcp/anchor/6_posting_locs.pickle, 1673221943994916>\n",
      "<Blob: inforetprojbucket22, postings_gcp/anchor/70_posting_locs.pickle, 1673221944253542>\n",
      "<Blob: inforetprojbucket22, postings_gcp/anchor/71_posting_locs.pickle, 1673221946578136>\n",
      "<Blob: inforetprojbucket22, postings_gcp/anchor/72_posting_locs.pickle, 1673221947274168>\n",
      "<Blob: inforetprojbucket22, postings_gcp/anchor/73_posting_locs.pickle, 1673221951117511>\n",
      "<Blob: inforetprojbucket22, postings_gcp/anchor/74_posting_locs.pickle, 1673221945675015>\n",
      "<Blob: inforetprojbucket22, postings_gcp/anchor/75_posting_locs.pickle, 1673221946219871>\n",
      "<Blob: inforetprojbucket22, postings_gcp/anchor/76_posting_locs.pickle, 1673221951158289>\n",
      "<Blob: inforetprojbucket22, postings_gcp/anchor/77_posting_locs.pickle, 1673221940916901>\n",
      "<Blob: inforetprojbucket22, postings_gcp/anchor/78_posting_locs.pickle, 1673221951151224>\n",
      "<Blob: inforetprojbucket22, postings_gcp/anchor/79_posting_locs.pickle, 1673221946547826>\n",
      "<Blob: inforetprojbucket22, postings_gcp/anchor/7_posting_locs.pickle, 1673221939851548>\n",
      "<Blob: inforetprojbucket22, postings_gcp/anchor/80_posting_locs.pickle, 1673221951428242>\n",
      "<Blob: inforetprojbucket22, postings_gcp/anchor/81_posting_locs.pickle, 1673221946947623>\n",
      "<Blob: inforetprojbucket22, postings_gcp/anchor/82_posting_locs.pickle, 1673221947766615>\n",
      "<Blob: inforetprojbucket22, postings_gcp/anchor/83_posting_locs.pickle, 1673221952190942>\n",
      "<Blob: inforetprojbucket22, postings_gcp/anchor/84_posting_locs.pickle, 1673221951557187>\n",
      "<Blob: inforetprojbucket22, postings_gcp/anchor/85_posting_locs.pickle, 1673221947790385>\n",
      "<Blob: inforetprojbucket22, postings_gcp/anchor/86_posting_locs.pickle, 1673221948472864>\n",
      "<Blob: inforetprojbucket22, postings_gcp/anchor/87_posting_locs.pickle, 1673221952261259>\n",
      "<Blob: inforetprojbucket22, postings_gcp/anchor/88_posting_locs.pickle, 1673221945744077>\n",
      "<Blob: inforetprojbucket22, postings_gcp/anchor/89_posting_locs.pickle, 1673221948347333>\n",
      "<Blob: inforetprojbucket22, postings_gcp/anchor/8_posting_locs.pickle, 1673221944233272>\n",
      "<Blob: inforetprojbucket22, postings_gcp/anchor/90_posting_locs.pickle, 1673221952150555>\n",
      "<Blob: inforetprojbucket22, postings_gcp/anchor/91_posting_locs.pickle, 1673221942094929>\n",
      "<Blob: inforetprojbucket22, postings_gcp/anchor/92_posting_locs.pickle, 1673221952275296>\n",
      "<Blob: inforetprojbucket22, postings_gcp/anchor/93_posting_locs.pickle, 1673221945744374>\n",
      "<Blob: inforetprojbucket22, postings_gcp/anchor/94_posting_locs.pickle, 1673221952697520>\n",
      "<Blob: inforetprojbucket22, postings_gcp/anchor/95_posting_locs.pickle, 1673221948508469>\n",
      "<Blob: inforetprojbucket22, postings_gcp/anchor/96_posting_locs.pickle, 1673221942293256>\n",
      "<Blob: inforetprojbucket22, postings_gcp/anchor/97_posting_locs.pickle, 1673221952285921>\n",
      "<Blob: inforetprojbucket22, postings_gcp/anchor/98_posting_locs.pickle, 1673221952490542>\n",
      "<Blob: inforetprojbucket22, postings_gcp/anchor/99_posting_locs.pickle, 1673221948287271>\n",
      "<Blob: inforetprojbucket22, postings_gcp/anchor/9_posting_locs.pickle, 1673221939481253>\n"
     ]
    }
   ],
   "source": [
    "FlattenedAnchor=doc_anchor_pairs.flatMap(lambda x: x[0])\n",
    "Anchor=FlattenedAnchor.distinct().groupByKey().mapValues(lambda x: \" \".join(x))\n",
    "\n",
    "# word counts map\n",
    "word_counts_Anchor = Anchor.flatMap(lambda x: word_count(x[1], x[0]))\n",
    "postings_anchor = word_counts_Anchor.groupByKey().mapValues(reduce_word_counts)\n",
    "#DL\n",
    "def DL(text,id):\n",
    "  lst_words=[]\n",
    "  tokens = [token.group() for token in RE_WORD.finditer(text.lower())]\n",
    "  for i in tokens:\n",
    "    if i not in all_stopwords:\n",
    "      lst_words.append(i)\n",
    "  \n",
    "  return ((id,len(lst_words)))\n",
    "\n",
    "\n",
    "DL_Array_Anchor=Anchor.map(lambda x:DL(x[1],x[0]))\n",
    "DL_Dict_Anchor = DL_Array_Anchor.collectAsMap()\n",
    "\n",
    "#postings_filtered = postings_body.filter(lambda x: len(x[1])>10) #we will filter it on the all corpus (will set it to 50)\n",
    "w2df_Anchor = calculate_df(postings_anchor)\n",
    "w2df_dict_Anchor = w2df_Anchor.collectAsMap()\n",
    "\n",
    "w2termstotal_Anchor = calculate_term_total(postings_anchor)\n",
    "dict_term_total_anchor = w2termstotal_Anchor.collectAsMap()\n",
    "\n",
    "posting_locs_list_anchor = partition_postings_and_write_anchor(postings_anchor).collect()\n",
    "\n",
    "super_posting_locs_Anchor = defaultdict(list)\n",
    "for blob in client.list_blobs(bucket_name, prefix='postings_gcp/anchor'):\n",
    "  if not blob.name.endswith(\"pickle\"):\n",
    "    continue\n",
    "  print(blob)  \n",
    "  with blob.open(\"rb\") as f:\n",
    "    posting_locs = pickle.load(f)\n",
    "    for k, v in posting_locs.items():\n",
    "      super_posting_locs_Anchor[k].extend(v)"
   ]
  },
  {
   "cell_type": "code",
   "execution_count": 15,
   "id": "8f727469",
   "metadata": {},
   "outputs": [
    {
     "name": "stdout",
     "output_type": "stream",
     "text": [
      "[0, 1, 2, 3, 4, 5, 6, 7, 8, 9, 10, 11, 12, 13, 14, 15, 16, 17, 18, 19, 20, 21, 22, 23, 24, 25, 26, 27, 28, 29, 30, 31, 32, 33, 34, 35, 36, 37, 38, 39, 40, 41, 42, 43, 44, 45, 46, 47, 48, 49, 50, 51, 52, 53, 54, 55, 56, 57, 58, 59, 60, 61, 62, 63, 64, 65, 66, 67, 68, 69, 70, 71, 72, 73, 74, 75, 76, 77, 78, 79, 80, 81, 82, 83, 84, 85, 86, 87, 88, 89, 90, 91, 92, 93, 94, 95, 96, 97, 98, 99, 100, 101, 102, 103, 104, 105, 106, 107, 108, 109, 110, 111, 112, 113, 114, 115, 116, 117, 118, 119, 120, 121, 122, 123]\n"
     ]
    },
    {
     "ename": "NameError",
     "evalue": "name 'posting_locs_list_anchor' is not defined",
     "output_type": "error",
     "traceback": [
      "\u001B[0;31m---------------------------------------------------------------------------\u001B[0m",
      "\u001B[0;31mNameError\u001B[0m                                 Traceback (most recent call last)",
      "Cell \u001B[0;32mIn[15], line 4\u001B[0m\n\u001B[1;32m      2\u001B[0m \u001B[38;5;66;03m# print(posting_locs_list_anchor)\u001B[39;00m\n\u001B[1;32m      3\u001B[0m super_posting_locs_anchor \u001B[38;5;241m=\u001B[39m defaultdict(\u001B[38;5;28mlist\u001B[39m)\n\u001B[0;32m----> 4\u001B[0m \u001B[38;5;28;01mfor\u001B[39;00m posting_loc \u001B[38;5;129;01min\u001B[39;00m \u001B[43mposting_locs_list_anchor\u001B[49m:\n\u001B[1;32m      5\u001B[0m     \u001B[38;5;28;01mfor\u001B[39;00m k, v \u001B[38;5;129;01min\u001B[39;00m posting_loc\u001B[38;5;241m.\u001B[39mitems():\n\u001B[1;32m      6\u001B[0m         super_posting_locs_anchor[k]\u001B[38;5;241m.\u001B[39mextend(v)\n",
      "\u001B[0;31mNameError\u001B[0m: name 'posting_locs_list_anchor' is not defined"
     ]
    }
   ],
   "source": [
    "print(posting_locs_list_Title)\n",
    "# print(posting_locs_list_anchor)\n",
    "super_posting_locs_anchor = defaultdict(list)\n",
    "for posting_loc in posting_locs_list_anchor:\n",
    "    for k, v in posting_loc.items():\n",
    "        super_posting_locs_anchor[k].extend(v)"
   ]
  },
  {
   "cell_type": "markdown",
   "id": "f6f66e3a",
   "metadata": {
    "id": "VhAV0A6dNZWY"
   },
   "source": [
    "# Creating an inverted Index for Body"
   ]
  },
  {
   "cell_type": "code",
   "execution_count": null,
   "id": "a5d2cfb6",
   "metadata": {
    "id": "54vqT_0WNc3w"
   },
   "outputs": [
    {
     "name": "stdout",
     "output_type": "stream",
     "text": [
      "Copying file://body_index.pkl [Content-Type=application/octet-stream]...\n",
      "- [1 files][ 69.0 MiB/ 69.0 MiB]                                                \n",
      "Operation completed over 1 objects/69.0 MiB.                                     \n"
     ]
    }
   ],
   "source": [
    "# Create inverted index instance\n",
    "inverted_body = InvertedIndex()\n",
    "# Adding the posting locations dictionary to the inverted index\n",
    "inverted_body.posting_locs = super_posting_locs_body\n",
    "# print(inverted.posting_locs)\n",
    "# Add the token - df dictionary to the inverted index\n",
    "inverted_body.df = w2df_dict_body\n",
    "#DL\n",
    "inverted_body.DL = DL_Dict_Body\n",
    "#Term Total\n",
    "inverted_body.term_total = dict_term_total_body\n",
    "# write the global stats out\n",
    "inverted_body.write_index('.', 'body_index')\n",
    "# upload to gs\n",
    "index_src = \"body_index.pkl\"\n",
    "index_dst = f'gs://{bucket_name}/postings_gcp/body_index/{index_src}'\n",
    "!gsutil cp $index_src $index_dst"
   ]
  },
  {
   "cell_type": "markdown",
   "id": "763ee64a",
   "metadata": {},
   "source": [
    "# Creating an inverted index for Title"
   ]
  },
  {
   "cell_type": "code",
   "execution_count": null,
   "id": "9d7e6692",
   "metadata": {},
   "outputs": [
    {
     "name": "stdout",
     "output_type": "stream",
     "text": [
      "Copying file://title_index.pkl [Content-Type=application/octet-stream]...\n",
      "/ [1 files][132.9 MiB/132.9 MiB]                                                \n",
      "Operation completed over 1 objects/132.9 MiB.                                    \n"
     ]
    }
   ],
   "source": [
    "# Create inverted index instance\n",
    "inverted_title = InvertedIndex()\n",
    "# Adding the posting locations dictionary to the inverted index\n",
    "inverted_title.posting_locs = super_posting_locs_Title\n",
    "# Add the token - df dictionary to the inverted index\n",
    "inverted_title.df = w2df_dict_Title\n",
    "#DL\n",
    "inverted_title.DL = DL_Dict_Title\n",
    "#Term Total\n",
    "inverted_title.term_total = dict_term_total_Title\n",
    "# write the global stats out\n",
    "inverted_title.write_index('.', 'title_index')\n",
    "# upload to gs\n",
    "index_src = \"title_index.pkl\"\n",
    "index_dst = f'gs://{bucket_name}/postings_gcp/title_index/{index_src}'\n",
    "!gsutil cp $index_src $index_dst"
   ]
  },
  {
   "cell_type": "markdown",
   "id": "739e2667",
   "metadata": {},
   "source": [
    "# Creating an inverted index for Anchor"
   ]
  },
  {
   "cell_type": "code",
   "execution_count": null,
   "id": "9368960a",
   "metadata": {},
   "outputs": [
    {
     "name": "stdout",
     "output_type": "stream",
     "text": [
      "Copying file://anchor_index.pkl [Content-Type=application/octet-stream]...\n",
      "==> NOTE: You are uploading one or more large file(s), which would run          \n",
      "significantly faster if you enable parallel composite uploads. This\n",
      "feature can be enabled by editing the\n",
      "\"parallel_composite_upload_threshold\" value in your .boto\n",
      "configuration file. However, note that if you do this large files will\n",
      "be uploaded as `composite objects\n",
      "<https://cloud.google.com/storage/docs/composite-objects>`_,which\n",
      "means that any user who downloads such objects will need to have a\n",
      "compiled crcmod installed (see \"gsutil help crcmod\"). This is because\n",
      "without a compiled crcmod, computing checksums on composite objects is\n",
      "so slow that gsutil disables downloads of composite objects.\n",
      "\n",
      "\\ [1 files][166.6 MiB/166.6 MiB]                                                \n",
      "Operation completed over 1 objects/166.6 MiB.                                    \n"
     ]
    }
   ],
   "source": [
    "# Create inverted index instance\n",
    "inverted_anchor = InvertedIndex()\n",
    "# Adding the posting locations dictionary to the inverted index\n",
    "inverted_anchor.posting_locs = super_posting_locs_Anchor\n",
    "# Add the token - df dictionary to the inverted index\n",
    "inverted_anchor.df = w2df_dict_Anchor\n",
    "#DL\n",
    "inverted_anchor.DL = DL_Dict_Anchor\n",
    "#Term Total\n",
    "inverted_anchor.term_total = dict_term_total_anchor\n",
    "# write the global stats out\n",
    "inverted_anchor.write_index('.', 'anchor_index')\n",
    "# upload to gs\n",
    "index_src = \"anchor_index.pkl\"\n",
    "index_dst = f'gs://{bucket_name}/postings_gcp/anchor_index/{index_src}'\n",
    "!gsutil cp $index_src $index_dst"
   ]
  },
  {
   "cell_type": "code",
   "execution_count": 25,
   "id": "8f880d59",
   "metadata": {
    "id": "msogGbJ3c8JF",
    "nbgrader": {
     "grade": false,
     "grade_id": "cell-index_dst_size",
     "locked": true,
     "schema_version": 3,
     "solution": false,
     "task": false
    }
   },
   "outputs": [
    {
     "name": "stdout",
     "output_type": "stream",
     "text": [
      " 27.74 MiB  2023-01-02T15:52:44Z  gs://inforetprojbucket22/postings_gcp/Multi1_CompleteIndex/anchor/anchor_index.pkl\r\n",
      "TOTAL: 1 objects, 29091430 bytes (27.74 MiB)\r\n"
     ]
    }
   ],
   "source": [
    "!gsutil ls -lh $index_dst\n",
    "# words, pls = zip(*inverted.posting_lists_iter())"
   ]
  },
  {
   "cell_type": "code",
   "execution_count": null,
   "id": "9bcee8d1",
   "metadata": {},
   "outputs": [],
   "source": [
    "gs://{bucket_name}/pr\n"
   ]
  }
 ],
 "metadata": {
  "celltoolbar": "Create Assignment",
  "colab": {
   "collapsed_sections": [],
   "name": "assignment3_gcp.ipynb",
   "provenance": [],
   "toc_visible": true
  },
  "kernelspec": {
   "display_name": "PySpark",
   "language": "python",
   "name": "pyspark"
  },
  "language_info": {
   "codemirror_mode": {
    "name": "ipython",
    "version": 3
   },
   "file_extension": ".py",
   "mimetype": "text/x-python",
   "name": "python",
   "nbconvert_exporter": "python",
   "pygments_lexer": "ipython3",
   "version": "3.8.15"
  }
 },
 "nbformat": 4,
 "nbformat_minor": 5
}